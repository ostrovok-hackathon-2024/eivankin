{
 "cells": [
  {
   "cell_type": "markdown",
   "source": [
    "# 4. Evaluation\n",
    "\n",
    "## 4.1. О качестве моделей\n",
    "\n",
    "Довольно простые модели вроде линейной показывают довольно хорошую точность по метрике F1 Macro. Единственный атрибут, с предсказанием которого есть проблемы - bedding, там значение метрики не превышает 0.65, когда при предсказании других полей получается 0.88 и более у лучшей модели. К сожалению, я уже не успеваю разобраться, что именно идёт не так с этим полем. Учитывая модульность решения, в будущем можно было бы заменить модель только для этого признака.\n",
    "\n",
    "Две модели, вышедшие вперёд по качеству - RidgeClassifier и LinearSVC. Для выбора той, что пойдёт в итоговое решение, нужно проверить, соответствуют ли они требованию по скорости работы. "
   ],
   "metadata": {
    "collapsed": false
   },
   "id": "a48275b929bec5"
  },
  {
   "cell_type": "markdown",
   "source": [
    "## 4.2. О скорости работы моделей"
   ],
   "metadata": {
    "collapsed": false
   },
   "id": "4e1020fcf33b97fd"
  },
  {
   "cell_type": "code",
   "outputs": [],
   "source": [],
   "metadata": {
    "collapsed": false
   },
   "id": "2f7b3cdad307141d"
  }
 ],
 "metadata": {
  "kernelspec": {
   "display_name": "Python 3",
   "language": "python",
   "name": "python3"
  },
  "language_info": {
   "codemirror_mode": {
    "name": "ipython",
    "version": 2
   },
   "file_extension": ".py",
   "mimetype": "text/x-python",
   "name": "python",
   "nbconvert_exporter": "python",
   "pygments_lexer": "ipython2",
   "version": "2.7.6"
  }
 },
 "nbformat": 4,
 "nbformat_minor": 5
}
