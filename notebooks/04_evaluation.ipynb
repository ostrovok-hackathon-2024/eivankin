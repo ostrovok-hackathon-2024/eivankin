{
 "cells": [
  {
   "cell_type": "markdown",
   "source": [
    "# 4. Evaluation\n",
    "\n",
    "## 4.1. О качестве моделей\n",
    "\n",
    "Довольно простые модели вроде линейной показывают довольно хорошую точность по метрике F1 Macro. Единственный атрибут, с предсказанием которого есть проблемы - bedding, там значение метрики не превышает 0.65, когда при предсказании других полей получается 0.88 и более у лучшей модели. К сожалению, я уже не успеваю разобраться, что именно идёт не так с этим полем. Учитывая модульность решения, в будущем можно было бы заменить модель только для этого признака.\n",
    "\n",
    "Две модели, вышедшие вперёд по качеству - RidgeClassifier и LinearSVC. Для выбора той, что пойдёт в итоговое решение, нужно проверить, соответствуют ли они требованию по скорости работы. "
   ],
   "metadata": {
    "collapsed": false
   },
   "id": "a48275b929bec5"
  },
  {
   "cell_type": "markdown",
   "source": [
    "## 4.2. О скорости работы моделей"
   ],
   "metadata": {
    "collapsed": false
   },
   "id": "4e1020fcf33b97fd"
  },
  {
   "cell_type": "markdown",
   "source": [
    "Давайте попробуем оценить пропускную способность моделей и прогоним их на всей исходной выборке rates_dirty, замеряя время:   "
   ],
   "metadata": {
    "collapsed": false
   },
   "id": "b6df21c11f49f6aa"
  },
  {
   "cell_type": "code",
   "outputs": [],
   "source": [
    "import pandas as pd\n",
    "\n",
    "rates_dirty = pd.read_csv(\"../raw_data/rates_dirty.csv\")\n",
    "number_of_records = len(rates_dirty)"
   ],
   "metadata": {
    "collapsed": false,
    "ExecuteTime": {
     "end_time": "2024-10-04T05:26:00.333267Z",
     "start_time": "2024-10-04T05:25:59.886238Z"
    }
   },
   "id": "2f7b3cdad307141d",
   "execution_count": 1
  },
  {
   "cell_type": "code",
   "outputs": [],
   "source": [
    "import time\n",
    "import os\n",
    "\n",
    "start = time.time()\n",
    "os.system(\"python3 ../cli_app.py --content ../raw_data/rates_dirty.csv --model svc_pipeline > /dev/null\")\n",
    "end = time.time()"
   ],
   "metadata": {
    "collapsed": false,
    "ExecuteTime": {
     "end_time": "2024-10-04T05:30:37.571095Z",
     "start_time": "2024-10-04T05:30:30.633729Z"
    }
   },
   "id": "faad07499dc243cc",
   "execution_count": 6
  },
  {
   "cell_type": "code",
   "outputs": [
    {
     "name": "stdout",
     "output_type": "stream",
     "text": [
      "Elapsed time: 6.93 s\n",
      "SVC throughput: 26024.08 records per second\n"
     ]
    }
   ],
   "source": [
    "print(f\"Elapsed time: {end - start:.2f} s\")\n",
    "print(f\"SVC throughput: {number_of_records / (end - start):.2f} records per second\")"
   ],
   "metadata": {
    "collapsed": false,
    "ExecuteTime": {
     "end_time": "2024-10-04T05:30:38.334310Z",
     "start_time": "2024-10-04T05:30:38.328879Z"
    }
   },
   "id": "c5f4f457fc04b722",
   "execution_count": 7
  },
  {
   "cell_type": "code",
   "outputs": [],
   "source": [
    "import time\n",
    "import os\n",
    "\n",
    "start = time.time()\n",
    "os.system(\"python3 ../cli_app.py --content ../raw_data/rates_dirty.csv --model ridge_pipeline > /dev/null\")\n",
    "end = time.time()"
   ],
   "metadata": {
    "collapsed": false,
    "ExecuteTime": {
     "end_time": "2024-10-04T05:31:05.344396Z",
     "start_time": "2024-10-04T05:30:58.315081Z"
    }
   },
   "id": "bd83c243dd711254",
   "execution_count": 8
  },
  {
   "cell_type": "code",
   "outputs": [
    {
     "name": "stdout",
     "output_type": "stream",
     "text": [
      "Elapsed time: 7.03 s\n",
      "Ridge throughput: 25684.03 records per second\n"
     ]
    }
   ],
   "source": [
    "print(f\"Elapsed time: {end - start:.2f} s\")\n",
    "print(f\"Ridge throughput: {number_of_records / (end - start):.2f} records per second\")"
   ],
   "metadata": {
    "collapsed": false,
    "ExecuteTime": {
     "end_time": "2024-10-04T05:33:57.942560Z",
     "start_time": "2024-10-04T05:33:57.938057Z"
    }
   },
   "id": "e382abcd19e0238a",
   "execution_count": 11
  },
  {
   "cell_type": "markdown",
   "source": [
    "Посмотрим, сколько занимает загрузка модели. Попробуем протестировать предсказания по вне скрипта с уже загруженными моделями:"
   ],
   "metadata": {
    "collapsed": false
   },
   "id": "e53f171c1ddd4486"
  },
  {
   "cell_type": "code",
   "outputs": [
    {
     "name": "stdout",
     "output_type": "stream",
     "text": [
      "dict_keys(['class', 'quality', 'bathroom', 'bedding', 'capacity', 'club', 'balcony', 'view'])\n",
      "dict_keys(['class', 'quality', 'bathroom', 'bedding', 'capacity', 'club', 'balcony', 'view'])\n"
     ]
    }
   ],
   "source": [
    "from model.manager import ModelManager\n",
    "\n",
    "ridge_manager = ModelManager(\"ridge_pipeline\")\n",
    "print(ridge_manager.class_to_model.keys())\n",
    "\n",
    "svc_manager = ModelManager(\"svc_pipeline\")\n",
    "print(svc_manager.class_to_model.keys())"
   ],
   "metadata": {
    "collapsed": false,
    "ExecuteTime": {
     "end_time": "2024-10-04T05:33:02.611742Z",
     "start_time": "2024-10-04T05:33:02.086634Z"
    }
   },
   "id": "6481a8b78c7143af",
   "execution_count": 10
  },
  {
   "cell_type": "code",
   "outputs": [],
   "source": [
    "without_na = rates_dirty.fillna(\"undefined\")\n",
    "\n",
    "start = time.time()\n",
    "svc_manager.predict(without_na)\n",
    "end = time.time()"
   ],
   "metadata": {
    "collapsed": false,
    "ExecuteTime": {
     "end_time": "2024-10-04T05:34:12.931507Z",
     "start_time": "2024-10-04T05:34:07.608733Z"
    }
   },
   "id": "b891a4c06021e6c1",
   "execution_count": 12
  },
  {
   "cell_type": "code",
   "outputs": [
    {
     "name": "stdout",
     "output_type": "stream",
     "text": [
      "Elapsed time: 5.15 s\n",
      "SVC throughput: 35051.44 records per second\n"
     ]
    }
   ],
   "source": [
    "print(f\"Elapsed time: {end - start:.2f} s\")\n",
    "print(f\"SVC throughput: {number_of_records / (end - start):.2f} records per second\")"
   ],
   "metadata": {
    "collapsed": false,
    "ExecuteTime": {
     "end_time": "2024-10-04T05:34:13.431988Z",
     "start_time": "2024-10-04T05:34:13.426268Z"
    }
   },
   "id": "e81137b2426f4a3b",
   "execution_count": 13
  },
  {
   "cell_type": "code",
   "outputs": [],
   "source": [
    "start = time.time()\n",
    "ridge_manager.predict(without_na)\n",
    "end = time.time()"
   ],
   "metadata": {
    "collapsed": false,
    "ExecuteTime": {
     "end_time": "2024-10-04T05:34:32.633621Z",
     "start_time": "2024-10-04T05:34:27.353342Z"
    }
   },
   "id": "1dd46ad7dfcc42f0",
   "execution_count": 14
  },
  {
   "cell_type": "code",
   "outputs": [
    {
     "name": "stdout",
     "output_type": "stream",
     "text": [
      "Elapsed time: 5.28 s\n",
      "Ridge throughput: 34196.71 records per second\n"
     ]
    }
   ],
   "source": [
    "print(f\"Elapsed time: {end - start:.2f} s\")\n",
    "print(f\"Ridge throughput: {number_of_records / (end - start):.2f} records per second\")"
   ],
   "metadata": {
    "collapsed": false,
    "ExecuteTime": {
     "end_time": "2024-10-04T05:34:33.092402Z",
     "start_time": "2024-10-04T05:34:33.087760Z"
    }
   },
   "id": "a9f68e558d37ce80",
   "execution_count": 15
  },
  {
   "cell_type": "markdown",
   "source": [
    "Как можно видеть по результатам выше, обе модели справляются с необходимой пропускной способностью в 4000 записи в секунду. Это значит, что мы можем выбрать более качественную модель - LinearSVC - в качестве финальной "
   ],
   "metadata": {
    "collapsed": false
   },
   "id": "1d3bb3b9d3e260e4"
  }
 ],
 "metadata": {
  "kernelspec": {
   "display_name": "Python 3",
   "language": "python",
   "name": "python3"
  },
  "language_info": {
   "codemirror_mode": {
    "name": "ipython",
    "version": 2
   },
   "file_extension": ".py",
   "mimetype": "text/x-python",
   "name": "python",
   "nbconvert_exporter": "python",
   "pygments_lexer": "ipython2",
   "version": "2.7.6"
  }
 },
 "nbformat": 4,
 "nbformat_minor": 5
}
